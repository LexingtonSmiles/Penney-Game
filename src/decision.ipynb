{
 "cells": [
  {
   "cell_type": "code",
   "execution_count": 7,
   "id": "28d909d2",
   "metadata": {},
   "outputs": [],
   "source": [
    "import time\n",
    "import tracemalloc\n",
    "\n",
    "def measure_performance(func, *args, **kwargs):\n",
    "    \"\"\"\n",
    "    Measures runtime and peak memory usage of a function.\n",
    "\n",
    "    Parameters:\n",
    "        func (callable): The function to measure.\n",
    "        *args, **kwargs: Arguments to pass to the function.\n",
    "\n",
    "    Returns:\n",
    "        result: The return value of the function (if any).\n",
    "        elapsed_time: Runtime in seconds.\n",
    "        peak_memory: Peak memory usage in MB.\n",
    "    \"\"\"\n",
    "    tracemalloc.start()\n",
    "\n",
    "    start_time = time.perf_counter()\n",
    "    result = func(*args, **kwargs)\n",
    "    end_time = time.perf_counter()\n",
    "\n",
    "    current, peak = tracemalloc.get_traced_memory()\n",
    "    tracemalloc.stop()\n",
    "\n",
    "    elapsed_time = end_time - start_time\n",
    "    peak_memory = peak / 10**6  # Convert bytes to MB\n",
    "\n",
    "    print(f\"Runtime: {elapsed_time:.4f} seconds\")\n",
    "    print(f\"Peak memory usage: {peak_memory:.4f} MB\")\n",
    "\n",
    "    return result, elapsed_time, peak_memory\n"
   ]
  },
  {
   "cell_type": "code",
   "execution_count": 8,
   "id": "6a4603b0",
   "metadata": {},
   "outputs": [
    {
     "name": "stdout",
     "output_type": "stream",
     "text": [
      "No existing file found. Creating blank DataFrame with 56 rows.\n",
      "DataFrame saved to C:/Users/kmand/DATA 440/Penney-Game/outputs\\results_file1.csv\n",
      "Runtime: 0.0215 seconds\n",
      "Peak memory usage: 0.4818 MB\n"
     ]
    }
   ],
   "source": [
    "from scoring import analyze, combos  # or paste the code in the same script\n",
    "\n",
    "_, time1, mem1 = measure_performance(\n",
    "    analyze,\n",
    "    data_folder=\"C:/Users/kmand/DATA 440/Penney-Game/data2\",\n",
    "    df_folder=\"C:/Users/kmand/DATA 440/Penney-Game/outputs\",\n",
    "    df_name=\"results_file1.csv\",\n",
    "    combos=combos\n",
    ")"
   ]
  },
  {
   "cell_type": "code",
   "execution_count": 9,
   "id": "113d6857",
   "metadata": {},
   "outputs": [
    {
     "name": "stdout",
     "output_type": "stream",
     "text": [
      "Found existing file: C:/Users/kmand/DATA 440/Penney-Game/outputs\\results_file1.csv. Loading DataFrame.\n",
      "DataFrame saved to C:/Users/kmand/DATA 440/Penney-Game/outputs\\results_file1.csv\n",
      "Runtime: 0.0169 seconds\n",
      "Peak memory usage: 0.4462 MB\n"
     ]
    }
   ],
   "source": [
    "from scoring_w_strings import analyze, combos  # or paste the code in the same script\n",
    "\n",
    "_, time1, mem1 = measure_performance(\n",
    "    analyze,\n",
    "    data_folder=\"C:/Users/kmand/DATA 440/Penney-Game/data1\",\n",
    "    df_folder=\"C:/Users/kmand/DATA 440/Penney-Game/outputs\",\n",
    "    df_name=\"results_file1.csv\",\n",
    "    combos=combos\n",
    ")"
   ]
  },
  {
   "cell_type": "code",
   "execution_count": null,
   "id": "a840bcfc",
   "metadata": {},
   "outputs": [],
   "source": []
  }
 ],
 "metadata": {
  "kernelspec": {
   "display_name": "base",
   "language": "python",
   "name": "python3"
  },
  "language_info": {
   "codemirror_mode": {
    "name": "ipython",
    "version": 3
   },
   "file_extension": ".py",
   "mimetype": "text/x-python",
   "name": "python",
   "nbconvert_exporter": "python",
   "pygments_lexer": "ipython3",
   "version": "3.13.5"
  }
 },
 "nbformat": 4,
 "nbformat_minor": 5
}
