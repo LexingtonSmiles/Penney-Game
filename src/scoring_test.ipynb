{
 "cells": [
  {
   "cell_type": "code",
   "execution_count": null,
   "id": "d432ac6c-37cb-4256-bf0d-7abf3696f7b1",
   "metadata": {},
   "outputs": [],
   "source": []
  },
  {
   "cell_type": "code",
   "execution_count": 35,
   "id": "aa2cfa1c-6a2a-46b7-b729-98335584b1bc",
   "metadata": {},
   "outputs": [],
   "source": [
    "import pandas as pd\n",
    "import numpy as np\n",
    "import os\n",
    "from typing import Any, Dict"
   ]
  },
  {
   "cell_type": "code",
   "execution_count": 50,
   "id": "9078df33-9b4b-491c-9330-b1709785a45f",
   "metadata": {},
   "outputs": [],
   "source": [
    "PATH_DATA = \"/Users/lexnguyen/Library/CloudStorage/OneDrive-William&Mary/Fall 2025/DATA_440/Penney-Game-Cloned/data1\"\n",
    "def load_first_raw_file(path: str) -> np.ndarray:\n",
    "    \"\"\"\n",
    "    Load the first file in a folder whose name contains 'raw' using np.load.\n",
    "    Uses only os, not pathlib.\n",
    "    \"\"\"\n",
    "    # List all files in the folder\n",
    "    all_files = os.listdir(path)\n",
    "\n",
    "    # Filter only files with \"raw\" in the name\n",
    "    raw_files = [f for f in all_files if \"raw\" in f and os.path.isfile(os.path.join(path, f))]\n",
    "\n",
    "    if not raw_files:\n",
    "        print(\"No raw files found.\")\n",
    "        return None\n",
    "\n",
    "    # Sort for consistency and pick the first one\n",
    "    raw_files.sort()\n",
    "    first_file = os.path.join(path, raw_files[0])\n",
    "    print(f\"Loading file: {first_file}\")\n",
    "\n",
    "    return np.load(first_file)\n"
   ]
  },
  {
   "cell_type": "code",
   "execution_count": 51,
   "id": "69acf7f3-0d25-464e-a6d5-f889194f0612",
   "metadata": {},
   "outputs": [
    {
     "name": "stdout",
     "output_type": "stream",
     "text": [
      "Loading file: /Users/lexnguyen/Library/CloudStorage/OneDrive-William&Mary/Fall 2025/DATA_440/Penney-Game-Cloned/data1/raw-deck_seed0_num_of_decks10000.npy\n"
     ]
    },
    {
     "data": {
      "text/plain": [
       "array([[[False,  True,  True, ..., False,  True, False],\n",
       "        [False, False,  True, ...,  True,  True, False],\n",
       "        [ True,  True, False, ..., False,  True, False],\n",
       "        ...,\n",
       "        [False,  True,  True, ..., False,  True,  True],\n",
       "        [ True, False,  True, ...,  True, False,  True],\n",
       "        [ True, False,  True, ..., False, False,  True]]],\n",
       "      shape=(1, 10000, 52))"
      ]
     },
     "execution_count": 51,
     "metadata": {},
     "output_type": "execute_result"
    }
   ],
   "source": [
    "load_first_raw_file(PATH_DATA)"
   ]
  },
  {
   "cell_type": "code",
   "execution_count": 52,
   "id": "226148cd-8f3e-48c1-a525-05a30cab8709",
   "metadata": {},
   "outputs": [],
   "source": [
    "# once read, change name\n",
    "def rename_raw_to_cooked(path: str, filename: str) -> str:\n",
    "    \"\"\"\n",
    "    Rename a single file starting with 'raw-deck' to 'cooked-deck'.\n",
    "\n",
    "    Parameters:\n",
    "        path (str): folder path\n",
    "        filename (str): name of the file to rename\n",
    "\n",
    "    Raises:\n",
    "        FileNotFoundError: If the file does not exist\n",
    "        ValueError: If the filename does not start with 'raw-deck'\n",
    "\n",
    "    Returns:\n",
    "        str: The new filename\n",
    "    \"\"\"\n",
    "    old_path = os.path.join(path, filename)\n",
    "\n",
    "    # Check if file exists\n",
    "    if not os.path.isfile(old_path):\n",
    "        raise FileNotFoundError(f\"File not found: {old_path}\")\n",
    "\n",
    "    # Check if filename starts with 'raw-deck'\n",
    "    if not filename.startswith(\"raw-deck\"):\n",
    "        raise ValueError(f\"Filename does not start with 'raw-deck': {filename}\")\n",
    "\n",
    "    # Build new filename and path\n",
    "    new_name = filename.replace(\"raw-deck\", \"cooked-deck\", 1)\n",
    "    new_path = os.path.join(path, new_name)\n",
    "\n",
    "    # Rename the file\n",
    "    os.rename(old_path, new_path)\n",
    "    print(f\"Renamed: {filename} -> {new_name}\")\n",
    "\n",
    "    return new_name"
   ]
  },
  {
   "cell_type": "code",
   "execution_count": 46,
   "id": "8a387e8c-931b-4e71-ac06-69cfdb9e95ba",
   "metadata": {},
   "outputs": [
    {
     "ename": "FileNotFoundError",
     "evalue": "File not found: /Users/lexnguyen/Library/CloudStorage/OneDrive-William&Mary/Fall 2025/DATA_440/Penney-Game-Cloned/data1/raw-deck_seed0_num_of_decks10000.npy",
     "output_type": "error",
     "traceback": [
      "\u001b[31m---------------------------------------------------------------------------\u001b[39m",
      "\u001b[31mFileNotFoundError\u001b[39m                         Traceback (most recent call last)",
      "\u001b[36mCell\u001b[39m\u001b[36m \u001b[39m\u001b[32mIn[46]\u001b[39m\u001b[32m, line 1\u001b[39m\n\u001b[32m----> \u001b[39m\u001b[32m1\u001b[39m \u001b[43mrename_raw_to_cooked\u001b[49m\u001b[43m(\u001b[49m\u001b[43mPATH_DATA\u001b[49m\u001b[43m,\u001b[49m\u001b[33;43m'\u001b[39;49m\u001b[33;43mraw-deck_seed0_num_of_decks10000.npy\u001b[39;49m\u001b[33;43m'\u001b[39;49m\u001b[43m)\u001b[49m\n",
      "\u001b[36mCell\u001b[39m\u001b[36m \u001b[39m\u001b[32mIn[43]\u001b[39m\u001b[32m, line 21\u001b[39m, in \u001b[36mrename_raw_to_cooked\u001b[39m\u001b[34m(path, filename)\u001b[39m\n\u001b[32m     19\u001b[39m \u001b[38;5;66;03m# Check if file exists\u001b[39;00m\n\u001b[32m     20\u001b[39m \u001b[38;5;28;01mif\u001b[39;00m \u001b[38;5;129;01mnot\u001b[39;00m os.path.isfile(old_path):\n\u001b[32m---> \u001b[39m\u001b[32m21\u001b[39m     \u001b[38;5;28;01mraise\u001b[39;00m \u001b[38;5;167;01mFileNotFoundError\u001b[39;00m(\u001b[33mf\u001b[39m\u001b[33m\"\u001b[39m\u001b[33mFile not found: \u001b[39m\u001b[38;5;132;01m{\u001b[39;00mold_path\u001b[38;5;132;01m}\u001b[39;00m\u001b[33m\"\u001b[39m)\n\u001b[32m     23\u001b[39m \u001b[38;5;66;03m# Check if filename starts with 'raw-deck'\u001b[39;00m\n\u001b[32m     24\u001b[39m \u001b[38;5;28;01mif\u001b[39;00m \u001b[38;5;129;01mnot\u001b[39;00m filename.startswith(\u001b[33m\"\u001b[39m\u001b[33mraw-deck\u001b[39m\u001b[33m\"\u001b[39m):\n",
      "\u001b[31mFileNotFoundError\u001b[39m: File not found: /Users/lexnguyen/Library/CloudStorage/OneDrive-William&Mary/Fall 2025/DATA_440/Penney-Game-Cloned/data1/raw-deck_seed0_num_of_decks10000.npy"
     ]
    }
   ],
   "source": [
    "rename_raw_to_cooked(PATH_DATA,'raw-deck_seed0_num_of_decks10000.npy')"
   ]
  },
  {
   "cell_type": "markdown",
   "id": "5c7e9da6-6481-48ad-a2e0-73c2d1c955e3",
   "metadata": {},
   "source": [
    "#"
   ]
  },
  {
   "cell_type": "code",
   "execution_count": 47,
   "id": "dfe4cc38-a958-4c3f-ac86-2c2483e4391f",
   "metadata": {},
   "outputs": [],
   "source": [
    "def create_blank_df() -> pd.DataFrame:\n",
    "    \"\"\"\n",
    "    Create a blank dataframe with fixed columns for storing deck results.\n",
    "    \"\"\"\n",
    "    import pandas as pd\n",
    "    \n",
    "    # Define the column names\n",
    "    columns = [\"Decks\", \"p1\", \"p2\", \"p1_tricks\", \"p1_cards\", \"p2_tricks\", \"p2_cards\"]\n",
    "    \n",
    "    # Example deck list\n",
    "    decks = []\n",
    "    \n",
    "    # Create the DataFrame\n",
    "    df = pd.DataFrame({\"Decks\": decks}, columns=columns)\n",
    "    return df\n",
    "\n"
   ]
  },
  {
   "cell_type": "code",
   "execution_count": 34,
   "id": "ec54599d-8b3a-480c-a28a-aa1f4275c00a",
   "metadata": {},
   "outputs": [],
   "source": [
    "\n",
    "def update_df(df: pd.DataFrame, deck: str, updates: Dict[str, Any]) -> pd.DataFrame:\n",
    "    \"\"\"\n",
    "    Add a new row to the DataFrame with a deck and optional updates for other columns.\n",
    "\n",
    "    Parameters:\n",
    "        df (pd.DataFrame): The DataFrame to update.\n",
    "        deck (str): The deck string to add in the 'Decks' column.\n",
    "        updates (dict, optional): Dictionary of column:value pairs to fill in other columns.\n",
    "\n",
    "    Returns:\n",
    "        pd.DataFrame: The updated DataFrame.\n",
    "    \"\"\"\n",
    "    # Start with the deck\n",
    "    row = {\"Decks\": deck}\n",
    "\n",
    "    # Add other values from updates, defaulting to None for missing columns\n",
    "    for col in df.columns:\n",
    "        if col != \"Decks\":\n",
    "            row[col] = updates.get(col, None)\n",
    "\n",
    "    # Append the new row\n",
    "    df.loc[len(df)] = row\n",
    "\n",
    "    return df"
   ]
  },
  {
   "cell_type": "code",
   "execution_count": null,
   "id": "65063974-d92a-4814-9c0b-c67c00f310ed",
   "metadata": {},
   "outputs": [],
   "source": [
    "#read in individual decks\n",
    "for i in deck_list:\n",
    "    for each_combo:\n",
    "        df[combo]: "
   ]
  },
  {
   "cell_type": "code",
   "execution_count": 33,
   "id": "3e5edb9d-c616-4185-9662-575684059aee",
   "metadata": {},
   "outputs": [],
   "source": [
    "#save dataframe to csv file\n",
    "def save_dataframe_to_csv(df: pd.DataFrame, folder: str, filename: str) -> None:\n",
    "    \"\"\"\n",
    "    Save a pandas DataFrame to a CSV file.\n",
    "\n",
    "    Parameters:\n",
    "        df (pd.DataFrame): The DataFrame to save.\n",
    "        folder (str): Directory where the file will be saved.\n",
    "        filename (str): The name of the file (e.g. 'output.csv').\n",
    "    \"\"\"\n",
    "    # Make sure the folder exists\n",
    "    os.makedirs(folder, exist_ok=True)\n",
    "\n",
    "    # Build full path\n",
    "    filepath = os.path.join(folder, filename)\n",
    "\n",
    "    # Save DataFrame\n",
    "    df.to_csv(filepath, index=False)\n",
    "    print(f\"DataFrame saved to {filepath}\")"
   ]
  },
  {
   "cell_type": "code",
   "execution_count": 49,
   "id": "80907e4a-9eab-436b-925b-f39682b95b1f",
   "metadata": {},
   "outputs": [],
   "source": [
    "def score(df) -> pd.DataFrame:\n",
    "    if #all the scoring columns are 0 then run score for this \n",
    "    for i in range(len(df)): #... will be the total number of rows\n",
    "        first = 0\n",
    "        third = 3\n",
    "        deck = df.at[i, 'decks']\n",
    "        cards_to_win = 3\n",
    "        #now use a for loop to calculate the tricks and cards\n",
    "        for k in range(len(deck)):#... will be 52 for the num of zeros and ones\n",
    "            if deck[first:third] == df.loc[i, 'P1']:\n",
    "                df.at[i, 'P1_tricks'] += 1\n",
    "                df.at[i, 'P1_cards'] += cards_to_win\n",
    "                first += 3\n",
    "                third += 3\n",
    "                cards_to_win = 3\n",
    "            elif deck[first:third] == df.loc[i, 'P2']:\n",
    "                df.at[i, 'P2_tricks'] += 1\n",
    "                df.at[i, 'P2_cards'] += cards_to_win\n",
    "                first += 3\n",
    "                third += 3\n",
    "                cards_to_win = 3\n",
    "            else:\n",
    "                cards_to_win += 1\n",
    "                first += 1\n",
    "                third += 1\n",
    "    return"
   ]
  },
  {
   "cell_type": "code",
   "execution_count": null,
   "id": "e3b368a8-c96d-4507-89cd-36033e23143e",
   "metadata": {},
   "outputs": [],
   "source": [
    "df= pd.DataFrame"
   ]
  },
  {
   "cell_type": "code",
   "execution_count": null,
   "id": "68eb2c92-1623-45b5-bda0-3815dc5366ab",
   "metadata": {},
   "outputs": [],
   "source": [
    "#put df that has decks and player combos in, score will score based off that, all scores need to start as 0 in df"
   ]
  },
  {
   "cell_type": "code",
   "execution_count": null,
   "id": "21290a40-687d-45bf-8a70-ef0908841240",
   "metadata": {},
   "outputs": [],
   "source": [
    "#load\n",
    "#put new deck into df 56 per deck (diff player combos) "
   ]
  }
 ],
 "metadata": {
  "kernelspec": {
   "display_name": "Python 3 (ipykernel)",
   "language": "python",
   "name": "python3"
  },
  "language_info": {
   "codemirror_mode": {
    "name": "ipython",
    "version": 3
   },
   "file_extension": ".py",
   "mimetype": "text/x-python",
   "name": "python",
   "nbconvert_exporter": "python",
   "pygments_lexer": "ipython3",
   "version": "3.13.2"
  }
 },
 "nbformat": 4,
 "nbformat_minor": 5
}
